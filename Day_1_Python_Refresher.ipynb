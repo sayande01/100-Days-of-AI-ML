{
  "nbformat": 4,
  "nbformat_minor": 0,
  "metadata": {
    "colab": {
      "provenance": []
    },
    "kernelspec": {
      "name": "python3",
      "display_name": "Python 3"
    },
    "language_info": {
      "name": "python"
    }
  },
  "cells": [
    {
      "cell_type": "markdown",
      "source": [
        "# Python Basics Refresher\n",
        "\n",
        "## Project Overview:\n",
        "- **Skills Demonstrated**: Python syntax, loops, conditional statements, and functions.\n",
        "- **Learnings**: Reviewed foundational Python concepts and wrote reusable scripts for common programming problems.\n",
        "\n",
        "In this notebook, we'll refresh our knowledge of Python by revisiting basic concepts such as syntax, loops, conditional statements, and functions. We will also solve some common problems using Python scripts.\n"
      ],
      "metadata": {
        "id": "6beKOfyrJgqi"
      }
    },
    {
      "cell_type": "code",
      "source": [
        "# This is a comment. Comments help explain your code but do not get executed.\n",
        "# The print() function is used to display output on the screen.\n",
        "print(\"Hello, Python Basics Refresher!\")  # This will print the string inside the quotes to the console.\n"
      ],
      "metadata": {
        "colab": {
          "base_uri": "https://localhost:8080/"
        },
        "id": "Do9rF2k1JiBf",
        "outputId": "28f46e82-8e84-48af-c7d8-bfce8888cd4b"
      },
      "execution_count": 3,
      "outputs": [
        {
          "output_type": "stream",
          "name": "stdout",
          "text": [
            "Hello, Python Basics Refresher!\n"
          ]
        }
      ]
    },
    {
      "cell_type": "code",
      "source": [
        "# Defining variables with different data types\n",
        "age = 25              # Integer\n",
        "height = 5.9          # Float\n",
        "name = \"Alice\"        # String\n",
        "is_active = True      # Boolean\n",
        "\n",
        "# Print the variables\n",
        "print(f\"Name: {name}, Age: {age}, Height: {height}, Active: {is_active}\")\n"
      ],
      "metadata": {
        "colab": {
          "base_uri": "https://localhost:8080/"
        },
        "id": "KXVjsCmfJkKP",
        "outputId": "639a37ac-7dfc-4b5d-970d-dd9bf1139c65"
      },
      "execution_count": 4,
      "outputs": [
        {
          "output_type": "stream",
          "name": "stdout",
          "text": [
            "Name: Alice, Age: 25, Height: 5.9, Active: True\n"
          ]
        }
      ]
    },
    {
      "cell_type": "markdown",
      "source": [
        "In this section, we defined variables of different types:\n",
        "- **Integer**: Used to store whole numbers.\n",
        "- **Float**: Used for decimal numbers.\n",
        "- **String**: Used to store text or words.\n",
        "- **Boolean**: Used to store `True` or `False` values.\n",
        "\n",
        "We then printed these variables using formatted strings for clear output.\n"
      ],
      "metadata": {
        "id": "nIC_9XX1Jp4m"
      }
    },
    {
      "cell_type": "code",
      "source": [
        "# Using a for loop to iterate over a list of numbers\n",
        "numbers = [1, 2, 3, 4, 5]\n",
        "for num in numbers:\n",
        "    print(f\"Number: {num}\")\n"
      ],
      "metadata": {
        "colab": {
          "base_uri": "https://localhost:8080/"
        },
        "id": "fi53pVqdJmNS",
        "outputId": "8baccbb1-9de5-457c-ffc9-d57c802cdc82"
      },
      "execution_count": 5,
      "outputs": [
        {
          "output_type": "stream",
          "name": "stdout",
          "text": [
            "Number: 1\n",
            "Number: 2\n",
            "Number: 3\n",
            "Number: 4\n",
            "Number: 5\n"
          ]
        }
      ]
    },
    {
      "cell_type": "code",
      "source": [
        "# Using a while loop to count down from 5\n",
        "count = 5\n",
        "while count > 0:\n",
        "    print(f\"Countdown: {count}\")\n",
        "    count -= 1  # Decrease the count by 1\n"
      ],
      "metadata": {
        "colab": {
          "base_uri": "https://localhost:8080/"
        },
        "id": "GzAmugXwJsBz",
        "outputId": "71dd16db-6d7f-4752-f3b7-28252589a791"
      },
      "execution_count": 6,
      "outputs": [
        {
          "output_type": "stream",
          "name": "stdout",
          "text": [
            "Countdown: 5\n",
            "Countdown: 4\n",
            "Countdown: 3\n",
            "Countdown: 2\n",
            "Countdown: 1\n"
          ]
        }
      ]
    },
    {
      "cell_type": "markdown",
      "source": [
        "Loops are used to repeat a block of code multiple times:\n",
        "- **For Loop**: Iterates over a collection (like a list) and executes the code for each item.\n",
        "- **While Loop**: Continues to execute the code as long as a given condition is `True`.\n",
        "\n",
        "We demonstrated both loops by iterating over a list of numbers and counting down from 5 using a `while` loop.\n"
      ],
      "metadata": {
        "id": "r2uxVBj3JymB"
      }
    },
    {
      "cell_type": "code",
      "source": [
        "# Example: Check if a number is positive, negative, or zero\n",
        "num = 7\n",
        "if num > 0:\n",
        "    print(\"Positive Number\")\n",
        "elif num < 0:\n",
        "    print(\"Negative Number\")\n",
        "else:\n",
        "    print(\"Zero\")\n"
      ],
      "metadata": {
        "colab": {
          "base_uri": "https://localhost:8080/"
        },
        "id": "0-ILxnUaJuvA",
        "outputId": "be9aff7d-27cf-45bb-a239-25acf3f809c4"
      },
      "execution_count": 7,
      "outputs": [
        {
          "output_type": "stream",
          "name": "stdout",
          "text": [
            "Positive Number\n"
          ]
        }
      ]
    },
    {
      "cell_type": "markdown",
      "source": [
        "# Example: Check if a number is positive, negative, or zero\n",
        "num = 7\n",
        "if num > 0:\n",
        "    print(\"Positive Number\")\n",
        "elif num < 0:\n",
        "    print(\"Negative Number\")\n",
        "else:\n",
        "    print(\"Zero\")\n"
      ],
      "metadata": {
        "id": "qWpBPUxlJ24q"
      }
    },
    {
      "cell_type": "code",
      "source": [
        "  # Defining a function to check if a number is even or odd\n",
        "def check_even_odd(number):\n",
        "    if number % 2 == 0:\n",
        "        return \"Even\"\n",
        "    else:\n",
        "        return \"Odd\"\n",
        "\n",
        "# Call the function with different values\n",
        "result = check_even_odd(7)\n",
        "print(f\"7 is {result}\")\n",
        "\n",
        "result = check_even_odd(10)\n",
        "print(f\"10 is {result}\")\n"
      ],
      "metadata": {
        "colab": {
          "base_uri": "https://localhost:8080/"
        },
        "id": "QLpChy71J0g8",
        "outputId": "01f59ca3-b162-4491-f0f9-d933c3ef8c33"
      },
      "execution_count": 8,
      "outputs": [
        {
          "output_type": "stream",
          "name": "stdout",
          "text": [
            "7 is Odd\n",
            "10 is Even\n"
          ]
        }
      ]
    },
    {
      "cell_type": "markdown",
      "source": [
        "Functions allow us to create reusable code blocks that can be executed multiple times.\n",
        "- We defined a function `check_even_odd()` that checks if a number is even or odd.\n",
        "- The function is called with different values to demonstrate its reusability.\n"
      ],
      "metadata": {
        "id": "KW4-4OZtJ8qi"
      }
    },
    {
      "cell_type": "markdown",
      "source": [
        "**Advanced Data Structures **"
      ],
      "metadata": {
        "id": "5h1EzDcuKWAb"
      }
    },
    {
      "cell_type": "code",
      "source": [
        "# Example of a list (ordered collection)\n",
        "fruits = [\"apple\", \"banana\", \"cherry\"]\n",
        "fruits.append(\"orange\")  # Add an item\n",
        "fruits.remove(\"banana\")  # Remove an item\n",
        "print(f\"Fruits List: {fruits}\")\n"
      ],
      "metadata": {
        "colab": {
          "base_uri": "https://localhost:8080/"
        },
        "id": "K-E6QuTCKVbF",
        "outputId": "b4c49fd9-0ce7-4f94-a2ce-49107a9ee5ff"
      },
      "execution_count": 9,
      "outputs": [
        {
          "output_type": "stream",
          "name": "stdout",
          "text": [
            "Fruits List: ['apple', 'cherry', 'orange']\n"
          ]
        }
      ]
    },
    {
      "cell_type": "code",
      "source": [
        "# Example of a list (ordered collection)\n",
        "fruits = [\"apple\", \"banana\", \"cherry\"]\n",
        "fruits.append(\"orange\")  # Add an item\n",
        "fruits.remove(\"banana\")  # Remove an item\n",
        "print(f\"Fruits List: {fruits}\")\n"
      ],
      "metadata": {
        "colab": {
          "base_uri": "https://localhost:8080/"
        },
        "id": "eRJRyMeOKVdV",
        "outputId": "9e99312d-d52e-414d-ff58-58fb78afc688"
      },
      "execution_count": 10,
      "outputs": [
        {
          "output_type": "stream",
          "name": "stdout",
          "text": [
            "Fruits List: ['apple', 'cherry', 'orange']\n"
          ]
        }
      ]
    },
    {
      "cell_type": "code",
      "source": [
        "# Example of a tuple (immutable collection)\n",
        "coordinates = (10, 20)\n",
        "print(f\"Coordinates: {coordinates}\")\n"
      ],
      "metadata": {
        "colab": {
          "base_uri": "https://localhost:8080/"
        },
        "id": "358_e-RhKVfx",
        "outputId": "5b0a8e66-c9b2-4375-a728-1201e4421bad"
      },
      "execution_count": 11,
      "outputs": [
        {
          "output_type": "stream",
          "name": "stdout",
          "text": [
            "Coordinates: (10, 20)\n"
          ]
        }
      ]
    },
    {
      "cell_type": "code",
      "source": [
        "# Example of a dictionary (key-value pairs)\n",
        "student = {\n",
        "    \"name\": \"John\",\n",
        "    \"age\": 22,\n",
        "    \"courses\": [\"Math\", \"Physics\"]\n",
        "}\n",
        "print(f\"Student Name: {student['name']}, Courses: {student['courses']}\")\n"
      ],
      "metadata": {
        "colab": {
          "base_uri": "https://localhost:8080/"
        },
        "id": "jsNDfO5xKViA",
        "outputId": "eac7c4c9-bfe9-4401-c0a5-83af01e10da5"
      },
      "execution_count": 12,
      "outputs": [
        {
          "output_type": "stream",
          "name": "stdout",
          "text": [
            "Student Name: John, Courses: ['Math', 'Physics']\n"
          ]
        }
      ]
    },
    {
      "cell_type": "code",
      "source": [
        "# Example of a set (unordered collection with unique elements)\n",
        "unique_numbers = {1, 2, 3, 3, 2}\n",
        "unique_numbers.add(4)  # Add an element\n",
        "unique_numbers.remove(1)  # Remove an element\n",
        "print(f\"Unique Numbers Set: {unique_numbers}\")\n"
      ],
      "metadata": {
        "colab": {
          "base_uri": "https://localhost:8080/"
        },
        "id": "uL59EqcIKVkh",
        "outputId": "51579025-cfbf-4745-da66-48094edcf0e8"
      },
      "execution_count": 13,
      "outputs": [
        {
          "output_type": "stream",
          "name": "stdout",
          "text": [
            "Unique Numbers Set: {2, 3, 4}\n"
          ]
        }
      ]
    },
    {
      "cell_type": "markdown",
      "source": [
        "Here, we explored advanced data structures in Python:\n",
        "- **Lists**: Ordered collections that can be modified (mutable).\n",
        "- **Tuples**: Immutable collections that cannot be changed after creation.\n",
        "- **Dictionaries**: Key-value pairs, useful for storing mappings.\n",
        "- **Sets**: Unordered collections that do not allow duplicates.\n",
        "\n",
        "We demonstrated basic operations on each data structure, such as adding, removing, and accessing elements.\n"
      ],
      "metadata": {
        "id": "r8YwoL-FKldl"
      }
    },
    {
      "cell_type": "code",
      "source": [],
      "metadata": {
        "id": "T7Gh6_XIKVn4"
      },
      "execution_count": null,
      "outputs": []
    },
    {
      "cell_type": "markdown",
      "source": [
        "List Comprehension"
      ],
      "metadata": {
        "id": "8XGU-6ofKnVN"
      }
    },
    {
      "cell_type": "code",
      "source": [
        "# List comprehension to generate squares of numbers\n",
        "squares = [x**2 for x in range(1, 6)]\n",
        "print(f\"Squares: {squares}\")\n",
        "\n",
        "# Filtering even numbers using list comprehension\n",
        "even_numbers = [x for x in range(1, 11) if x % 2 == 0]\n",
        "print(f\"Even Numbers: {even_numbers}\")\n"
      ],
      "metadata": {
        "colab": {
          "base_uri": "https://localhost:8080/"
        },
        "id": "JEbemkeCKr0k",
        "outputId": "593a433a-0809-4b7b-d39f-faa1c6a20bb6"
      },
      "execution_count": 14,
      "outputs": [
        {
          "output_type": "stream",
          "name": "stdout",
          "text": [
            "Squares: [1, 4, 9, 16, 25]\n",
            "Even Numbers: [2, 4, 6, 8, 10]\n"
          ]
        }
      ]
    },
    {
      "cell_type": "code",
      "source": [
        "# Handling division by zero error using try-except\n",
        "try:\n",
        "    result = 10 / 0\n",
        "except ZeroDivisionError:\n",
        "    print(\"Error: Division by zero is not allowed.\")\n",
        "finally:\n",
        "    print(\"Execution completed.\")\n"
      ],
      "metadata": {
        "colab": {
          "base_uri": "https://localhost:8080/"
        },
        "id": "E9AlinN2Kr3G",
        "outputId": "dc20ad8e-3665-42de-c43c-60cf238020aa"
      },
      "execution_count": 15,
      "outputs": [
        {
          "output_type": "stream",
          "name": "stdout",
          "text": [
            "Error: Division by zero is not allowed.\n",
            "Execution completed.\n"
          ]
        }
      ]
    },
    {
      "cell_type": "code",
      "source": [
        "  # Writing data to a file\n",
        "with open(\"sample.txt\", \"w\") as file:\n",
        "    file.write(\"Hello, this is a test file.\\n\")\n",
        "    file.write(\"Python File I/O operations are easy to use.\")\n",
        "\n",
        "# Reading data from the file\n",
        "with open(\"sample.txt\", \"r\") as file:\n",
        "    content = file.read()\n",
        "    print(f\"File Content:\\n{content}\")\n"
      ],
      "metadata": {
        "colab": {
          "base_uri": "https://localhost:8080/"
        },
        "id": "OifPP0d1Kr6c",
        "outputId": "488e6f4d-5e74-421a-ed95-5580a6325974"
      },
      "execution_count": 16,
      "outputs": [
        {
          "output_type": "stream",
          "name": "stdout",
          "text": [
            "File Content:\n",
            "Hello, this is a test file.\n",
            "Python File I/O operations are easy to use.\n"
          ]
        }
      ]
    },
    {
      "cell_type": "markdown",
      "source": [
        "## Conclusion:\n",
        "In this notebook, we refreshed our knowledge on the following Python basics:\n",
        "1. **Python Syntax**: Understanding how to print and use comments.\n",
        "2. **Variables and Data Types**: Defining and using variables of different types.\n",
        "3. **Loops**: Using `for` and `while` loops for iteration.\n",
        "4. **Conditional Statements**: Writing `if`, `elif`, and `else` to control code flow.\n",
        "5. **Functions**: Creating reusable functions to solve specific problems.\n",
        "\n",
        "These concepts are the foundation of Python programming, and we practiced them by solving simple problems such as checking if a number is even or odd and printing information about variables.\n"
      ],
      "metadata": {
        "id": "AQRy9iDGKAAx"
      }
    },
    {
      "cell_type": "code",
      "source": [],
      "metadata": {
        "id": "qL2kwUchJ4lv"
      },
      "execution_count": null,
      "outputs": []
    }
  ]
}